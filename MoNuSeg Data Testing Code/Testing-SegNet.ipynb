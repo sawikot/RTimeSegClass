{
 "cells": [
  {
   "cell_type": "code",
   "execution_count": null,
   "id": "efa9b7e8",
   "metadata": {},
   "outputs": [],
   "source": [
    "from __future__ import print_function, unicode_literals, absolute_import, division\n",
    "import sys\n",
    "import numpy as np\n",
    "import matplotlib\n",
    "matplotlib.rcParams[\"image.interpolation\"] = 'none'\n",
    "import matplotlib.pyplot as plt\n",
    "%matplotlib inline\n",
    "%config InlineBackend.figure_format = 'retina'\n",
    "\n",
    "from glob import glob\n",
    "from tqdm import tqdm\n",
    "from tifffile import imread\n",
    "from csbdeep.utils import Path, normalize\n",
    "\n",
    "\n",
    "from stardist.matching import matching, matching_dataset\n",
    "from stardist.models import Config2D, StarDist2D, StarDistData2D\n",
    "from stardist import fill_label_holes, random_label_cmap, calculate_extents, gputools_available\n",
    "\n",
    "np.random.seed(42)\n",
    "lbl_cmap = random_label_cmap()"
   ]
  },
  {
   "cell_type": "code",
   "execution_count": 2,
   "id": "6b430411",
   "metadata": {},
   "outputs": [
    {
     "name": "stdout",
     "output_type": "stream",
     "text": [
      "CUDA is available\n"
     ]
    }
   ],
   "source": [
    "import tensorflow as tf\n",
    "\n",
    "if tf.config.list_physical_devices('GPU'):\n",
    "    print('CUDA is available')\n",
    "else:\n",
    "    print('CUDA is not available')\n"
   ]
  },
  {
   "cell_type": "code",
   "execution_count": 3,
   "id": "2859e986",
   "metadata": {},
   "outputs": [
    {
     "name": "stderr",
     "output_type": "stream",
     "text": [
      "100%|██████████| 14/14 [02:49<00:00, 12.10s/it]\n"
     ]
    }
   ],
   "source": [
    "import numpy as np\n",
    "import xml.etree.ElementTree as ET\n",
    "import cv2\n",
    "import random\n",
    "import matplotlib.pyplot as plt\n",
    "from skimage import io, transform\n",
    "\n",
    "def he_to_binary_mask_final(filename):\n",
    "    im_file = filename + '.tif'\n",
    "    xml_file = filename + '.xml'\n",
    "\n",
    "    # Parse the XML file\n",
    "    xDoc = ET.parse(xml_file)\n",
    "    Regions = xDoc.findall('.//Region')  # get a list of all the region tags\n",
    "    xy = []\n",
    "\n",
    "    for region in Regions:\n",
    "        vertices = region.findall('.//Vertex')\n",
    "        xy_region = np.zeros((len(vertices), 2))\n",
    "\n",
    "        for i, vertex in enumerate(vertices):\n",
    "            x = float(vertex.get('X'))\n",
    "            y = float(vertex.get('Y'))\n",
    "            xy_region[i, :] = [x, y]\n",
    "\n",
    "        xy.append(xy_region)\n",
    "\n",
    "    im_info = cv2.imread(im_file)\n",
    "\n",
    "    nrow, ncol, _ = im_info.shape\n",
    "    binary_mask = np.zeros((nrow, ncol), dtype=np.uint8)\n",
    "    color_mask = np.zeros((nrow, ncol, 3), dtype=np.float32)\n",
    "\n",
    "    for zz, vertices in enumerate(xy, start=1):\n",
    "        #print(f'Processing object #{zz}')\n",
    "        smaller_x = vertices[:, 0].astype(int)\n",
    "        smaller_y = vertices[:, 1].astype(int)\n",
    "\n",
    "        # Create a mask and add it to the current mask\n",
    "        # Use logical OR to handle overlapping objects\n",
    "        polygon = cv2.fillPoly(np.zeros_like(binary_mask), [vertices.astype(int)], 1)\n",
    "        binary_mask = binary_mask + zz * (1 - np.minimum(1, binary_mask)) * polygon\n",
    "\n",
    "        # Create a random color mask\n",
    "        color_mask += np.stack([random.random() * polygon for _ in range(3)], axis=2)\n",
    "\n",
    "    \n",
    "    return binary_mask, im_info\n",
    "\n",
    "\n",
    "\n",
    "X_test=[]\n",
    "Y_test=[]\n",
    "for url in tqdm(glob(r'C:\\Users\\DELL\\Desktop\\Final Work StarDist\\StarDist IIT\\data/MoNuSegTestData/*.tif')):\n",
    "    # # Call the function with your filename\n",
    "    binary_mask, image = he_to_binary_mask_final(url.split(\".\")[0])\n",
    "    height, width, _ = image.shape\n",
    "    image = transform.resize(image, (height, width))\n",
    "    X_test.append(image)\n",
    "    Y_test.append(binary_mask)"
   ]
  },
  {
   "cell_type": "code",
   "execution_count": 4,
   "id": "88eb0dc6",
   "metadata": {},
   "outputs": [],
   "source": [
    "def plot_img_label(img, lbl, img_title=\"image\", lbl_title=\"label\", **kwargs):\n",
    "    fig, (ai,al) = plt.subplots(1,2, figsize=(12,5), gridspec_kw=dict(width_ratios=(1.25,1)))\n",
    "    im = ai.imshow(img, cmap='gray', clim=(0,1))\n",
    "    ai.set_title(img_title)    \n",
    "    fig.colorbar(im, ax=ai)\n",
    "    al.imshow(lbl, cmap=lbl_cmap)\n",
    "    al.set_title(lbl_title)\n",
    "    plt.tight_layout()"
   ]
  },
  {
   "cell_type": "code",
   "execution_count": 5,
   "id": "28add048",
   "metadata": {},
   "outputs": [
    {
     "name": "stdout",
     "output_type": "stream",
     "text": [
      "WARNING:tensorflow:AutoGraph could not transform <bound method MaxPoolingWithArgmax2D.call of <stardist.models.model2d.MaxPoolingWithArgmax2D object at 0x0000021D9700DD20>> and will run it as-is.\n",
      "Please report this to the TensorFlow team. When filing the bug, set the verbosity to 10 (on Linux, `export AUTOGRAPH_VERBOSITY=10`) and attach the full output.\n",
      "Cause: module 'gast' has no attribute 'Constant'\n",
      "To silence this warning, decorate the function with @tf.autograph.experimental.do_not_convert\n",
      "WARNING: AutoGraph could not transform <bound method MaxPoolingWithArgmax2D.call of <stardist.models.model2d.MaxPoolingWithArgmax2D object at 0x0000021D9700DD20>> and will run it as-is.\n",
      "Please report this to the TensorFlow team. When filing the bug, set the verbosity to 10 (on Linux, `export AUTOGRAPH_VERBOSITY=10`) and attach the full output.\n",
      "Cause: module 'gast' has no attribute 'Constant'\n",
      "To silence this warning, decorate the function with @tf.autograph.experimental.do_not_convert\n",
      "Jahid-GPU\n",
      "Model: \"model\"\n",
      "__________________________________________________________________________________________________\n",
      " Layer (type)                   Output Shape         Param #     Connected to                     \n",
      "==================================================================================================\n",
      " input (InputLayer)             [(None, None, None,  0           []                               \n",
      "                                 3)]                                                              \n",
      "                                                                                                  \n",
      " conv2d (Conv2D)                (None, None, None,   896         ['input[0][0]']                  \n",
      "                                32)                                                               \n",
      "                                                                                                  \n",
      " conv2d_1 (Conv2D)              (None, None, None,   9248        ['conv2d[0][0]']                 \n",
      "                                32)                                                               \n",
      "                                                                                                  \n",
      " max_pooling2d (MaxPooling2D)   (None, None, None,   0           ['conv2d_1[0][0]']               \n",
      "                                32)                                                               \n",
      "                                                                                                  \n",
      " conv2d_2 (Conv2D)              (None, None, None,   18496       ['max_pooling2d[0][0]']          \n",
      "                                64)                                                               \n",
      "                                                                                                  \n",
      " batch_normalization (BatchNorm  (None, None, None,   256        ['conv2d_2[0][0]']               \n",
      " alization)                     64)                                                               \n",
      "                                                                                                  \n",
      " activation (Activation)        (None, None, None,   0           ['batch_normalization[0][0]']    \n",
      "                                64)                                                               \n",
      "                                                                                                  \n",
      " conv2d_3 (Conv2D)              (None, None, None,   36928       ['activation[0][0]']             \n",
      "                                64)                                                               \n",
      "                                                                                                  \n",
      " batch_normalization_1 (BatchNo  (None, None, None,   256        ['conv2d_3[0][0]']               \n",
      " rmalization)                   64)                                                               \n",
      "                                                                                                  \n",
      " activation_1 (Activation)      (None, None, None,   0           ['batch_normalization_1[0][0]']  \n",
      "                                64)                                                               \n",
      "                                                                                                  \n",
      " max_pooling_with_argmax2d (Max  [(None, None, None,  0          ['activation_1[0][0]']           \n",
      " PoolingWithArgmax2D)            64),                                                             \n",
      "                                 (None, None, None,                                               \n",
      "                                 64)]                                                             \n",
      "                                                                                                  \n",
      " conv2d_4 (Conv2D)              (None, None, None,   73856       ['max_pooling_with_argmax2d[0][0]\n",
      "                                128)                             ']                               \n",
      "                                                                                                  \n",
      " batch_normalization_2 (BatchNo  (None, None, None,   512        ['conv2d_4[0][0]']               \n",
      " rmalization)                   128)                                                              \n",
      "                                                                                                  \n",
      " activation_2 (Activation)      (None, None, None,   0           ['batch_normalization_2[0][0]']  \n",
      "                                128)                                                              \n",
      "                                                                                                  \n",
      " conv2d_5 (Conv2D)              (None, None, None,   147584      ['activation_2[0][0]']           \n",
      "                                128)                                                              \n",
      "                                                                                                  \n",
      " batch_normalization_3 (BatchNo  (None, None, None,   512        ['conv2d_5[0][0]']               \n",
      " rmalization)                   128)                                                              \n",
      "                                                                                                  \n",
      " activation_3 (Activation)      (None, None, None,   0           ['batch_normalization_3[0][0]']  \n",
      "                                128)                                                              \n",
      "                                                                                                  \n",
      " max_pooling_with_argmax2d_1 (M  [(None, None, None,  0          ['activation_3[0][0]']           \n",
      " axPoolingWithArgmax2D)          128),                                                            \n",
      "                                 (None, None, None,                                               \n",
      "                                 128)]                                                            \n",
      "                                                                                                  \n",
      " conv2d_6 (Conv2D)              (None, None, None,   295168      ['max_pooling_with_argmax2d_1[0][\n",
      "                                256)                             0]']                             \n",
      "                                                                                                  \n",
      " batch_normalization_4 (BatchNo  (None, None, None,   1024       ['conv2d_6[0][0]']               \n",
      " rmalization)                   256)                                                              \n",
      "                                                                                                  \n",
      " activation_4 (Activation)      (None, None, None,   0           ['batch_normalization_4[0][0]']  \n",
      "                                256)                                                              \n",
      "                                                                                                  \n",
      " conv2d_7 (Conv2D)              (None, None, None,   590080      ['activation_4[0][0]']           \n",
      "                                256)                                                              \n",
      "                                                                                                  \n"
     ]
    },
    {
     "name": "stdout",
     "output_type": "stream",
     "text": [
      " batch_normalization_5 (BatchNo  (None, None, None,   1024       ['conv2d_7[0][0]']               \n",
      " rmalization)                   256)                                                              \n",
      "                                                                                                  \n",
      " activation_5 (Activation)      (None, None, None,   0           ['batch_normalization_5[0][0]']  \n",
      "                                256)                                                              \n",
      "                                                                                                  \n",
      " conv2d_8 (Conv2D)              (None, None, None,   590080      ['activation_5[0][0]']           \n",
      "                                256)                                                              \n",
      "                                                                                                  \n",
      " batch_normalization_6 (BatchNo  (None, None, None,   1024       ['conv2d_8[0][0]']               \n",
      " rmalization)                   256)                                                              \n",
      "                                                                                                  \n",
      " activation_6 (Activation)      (None, None, None,   0           ['batch_normalization_6[0][0]']  \n",
      "                                256)                                                              \n",
      "                                                                                                  \n",
      " max_pooling_with_argmax2d_2 (M  [(None, None, None,  0          ['activation_6[0][0]']           \n",
      " axPoolingWithArgmax2D)          256),                                                            \n",
      "                                 (None, None, None,                                               \n",
      "                                 256)]                                                            \n",
      "                                                                                                  \n",
      " conv2d_9 (Conv2D)              (None, None, None,   1180160     ['max_pooling_with_argmax2d_2[0][\n",
      "                                512)                             0]']                             \n",
      "                                                                                                  \n",
      " batch_normalization_7 (BatchNo  (None, None, None,   2048       ['conv2d_9[0][0]']               \n",
      " rmalization)                   512)                                                              \n",
      "                                                                                                  \n",
      " activation_7 (Activation)      (None, None, None,   0           ['batch_normalization_7[0][0]']  \n",
      "                                512)                                                              \n",
      "                                                                                                  \n",
      " conv2d_10 (Conv2D)             (None, None, None,   2359808     ['activation_7[0][0]']           \n",
      "                                512)                                                              \n",
      "                                                                                                  \n",
      " batch_normalization_8 (BatchNo  (None, None, None,   2048       ['conv2d_10[0][0]']              \n",
      " rmalization)                   512)                                                              \n",
      "                                                                                                  \n",
      " activation_8 (Activation)      (None, None, None,   0           ['batch_normalization_8[0][0]']  \n",
      "                                512)                                                              \n",
      "                                                                                                  \n",
      " conv2d_11 (Conv2D)             (None, None, None,   2359808     ['activation_8[0][0]']           \n",
      "                                512)                                                              \n",
      "                                                                                                  \n",
      " batch_normalization_9 (BatchNo  (None, None, None,   2048       ['conv2d_11[0][0]']              \n",
      " rmalization)                   512)                                                              \n",
      "                                                                                                  \n",
      " activation_9 (Activation)      (None, None, None,   0           ['batch_normalization_9[0][0]']  \n",
      "                                512)                                                              \n",
      "                                                                                                  \n",
      " max_pooling_with_argmax2d_3 (M  [(None, None, None,  0          ['activation_9[0][0]']           \n",
      " axPoolingWithArgmax2D)          512),                                                            \n",
      "                                 (None, None, None,                                               \n",
      "                                 512)]                                                            \n",
      "                                                                                                  \n",
      " conv2d_12 (Conv2D)             (None, None, None,   2359808     ['max_pooling_with_argmax2d_3[0][\n",
      "                                512)                             0]']                             \n",
      "                                                                                                  \n",
      " batch_normalization_10 (BatchN  (None, None, None,   2048       ['conv2d_12[0][0]']              \n",
      " ormalization)                  512)                                                              \n",
      "                                                                                                  \n",
      " activation_10 (Activation)     (None, None, None,   0           ['batch_normalization_10[0][0]'] \n",
      "                                512)                                                              \n",
      "                                                                                                  \n",
      " conv2d_13 (Conv2D)             (None, None, None,   2359808     ['activation_10[0][0]']          \n",
      "                                512)                                                              \n",
      "                                                                                                  \n",
      " batch_normalization_11 (BatchN  (None, None, None,   2048       ['conv2d_13[0][0]']              \n",
      " ormalization)                  512)                                                              \n",
      "                                                                                                  \n",
      " activation_11 (Activation)     (None, None, None,   0           ['batch_normalization_11[0][0]'] \n",
      "                                512)                                                              \n",
      "                                                                                                  \n",
      " conv2d_14 (Conv2D)             (None, None, None,   2359808     ['activation_11[0][0]']          \n",
      "                                512)                                                              \n",
      "                                                                                                  \n",
      " batch_normalization_12 (BatchN  (None, None, None,   2048       ['conv2d_14[0][0]']              \n",
      " ormalization)                  512)                                                              \n",
      "                                                                                                  \n",
      " activation_12 (Activation)     (None, None, None,   0           ['batch_normalization_12[0][0]'] \n",
      "                                512)                                                              \n",
      "                                                                                                  \n",
      " max_pooling_with_argmax2d_4 (M  [(None, None, None,  0          ['activation_12[0][0]']          \n",
      " axPoolingWithArgmax2D)          512),                                                            \n",
      "                                 (None, None, None,                                               \n",
      "                                 512)]                                                            \n"
     ]
    },
    {
     "name": "stdout",
     "output_type": "stream",
     "text": [
      "                                                                                                  \n",
      " up_sampling2d (UpSampling2D)   (None, None, None,   0           ['max_pooling_with_argmax2d_4[0][\n",
      "                                512)                             0]']                             \n",
      "                                                                                                  \n",
      " conv2d_15 (Conv2D)             (None, None, None,   2359808     ['up_sampling2d[0][0]']          \n",
      "                                512)                                                              \n",
      "                                                                                                  \n",
      " batch_normalization_13 (BatchN  (None, None, None,   2048       ['conv2d_15[0][0]']              \n",
      " ormalization)                  512)                                                              \n",
      "                                                                                                  \n",
      " activation_13 (Activation)     (None, None, None,   0           ['batch_normalization_13[0][0]'] \n",
      "                                512)                                                              \n",
      "                                                                                                  \n",
      " conv2d_16 (Conv2D)             (None, None, None,   2359808     ['activation_13[0][0]']          \n",
      "                                512)                                                              \n",
      "                                                                                                  \n",
      " batch_normalization_14 (BatchN  (None, None, None,   2048       ['conv2d_16[0][0]']              \n",
      " ormalization)                  512)                                                              \n",
      "                                                                                                  \n",
      " activation_14 (Activation)     (None, None, None,   0           ['batch_normalization_14[0][0]'] \n",
      "                                512)                                                              \n",
      "                                                                                                  \n",
      " conv2d_17 (Conv2D)             (None, None, None,   2359808     ['activation_14[0][0]']          \n",
      "                                512)                                                              \n",
      "                                                                                                  \n",
      " batch_normalization_15 (BatchN  (None, None, None,   2048       ['conv2d_17[0][0]']              \n",
      " ormalization)                  512)                                                              \n",
      "                                                                                                  \n",
      " activation_15 (Activation)     (None, None, None,   0           ['batch_normalization_15[0][0]'] \n",
      "                                512)                                                              \n",
      "                                                                                                  \n",
      " up_sampling2d_1 (UpSampling2D)  (None, None, None,   0          ['activation_15[0][0]']          \n",
      "                                512)                                                              \n",
      "                                                                                                  \n",
      " conv2d_18 (Conv2D)             (None, None, None,   2359808     ['up_sampling2d_1[0][0]']        \n",
      "                                512)                                                              \n",
      "                                                                                                  \n",
      " batch_normalization_16 (BatchN  (None, None, None,   2048       ['conv2d_18[0][0]']              \n",
      " ormalization)                  512)                                                              \n",
      "                                                                                                  \n",
      " activation_16 (Activation)     (None, None, None,   0           ['batch_normalization_16[0][0]'] \n",
      "                                512)                                                              \n",
      "                                                                                                  \n",
      " conv2d_19 (Conv2D)             (None, None, None,   2359808     ['activation_16[0][0]']          \n",
      "                                512)                                                              \n",
      "                                                                                                  \n",
      " batch_normalization_17 (BatchN  (None, None, None,   2048       ['conv2d_19[0][0]']              \n",
      " ormalization)                  512)                                                              \n",
      "                                                                                                  \n",
      " activation_17 (Activation)     (None, None, None,   0           ['batch_normalization_17[0][0]'] \n",
      "                                512)                                                              \n",
      "                                                                                                  \n",
      " conv2d_20 (Conv2D)             (None, None, None,   1179904     ['activation_17[0][0]']          \n",
      "                                256)                                                              \n",
      "                                                                                                  \n",
      " batch_normalization_18 (BatchN  (None, None, None,   1024       ['conv2d_20[0][0]']              \n",
      " ormalization)                  256)                                                              \n",
      "                                                                                                  \n",
      " activation_18 (Activation)     (None, None, None,   0           ['batch_normalization_18[0][0]'] \n",
      "                                256)                                                              \n",
      "                                                                                                  \n",
      " up_sampling2d_2 (UpSampling2D)  (None, None, None,   0          ['activation_18[0][0]']          \n",
      "                                256)                                                              \n",
      "                                                                                                  \n",
      " conv2d_21 (Conv2D)             (None, None, None,   590080      ['up_sampling2d_2[0][0]']        \n",
      "                                256)                                                              \n",
      "                                                                                                  \n",
      " batch_normalization_19 (BatchN  (None, None, None,   1024       ['conv2d_21[0][0]']              \n",
      " ormalization)                  256)                                                              \n",
      "                                                                                                  \n",
      " activation_19 (Activation)     (None, None, None,   0           ['batch_normalization_19[0][0]'] \n",
      "                                256)                                                              \n",
      "                                                                                                  \n",
      " conv2d_22 (Conv2D)             (None, None, None,   590080      ['activation_19[0][0]']          \n",
      "                                256)                                                              \n",
      "                                                                                                  \n",
      " batch_normalization_20 (BatchN  (None, None, None,   1024       ['conv2d_22[0][0]']              \n",
      " ormalization)                  256)                                                              \n",
      "                                                                                                  \n",
      " activation_20 (Activation)     (None, None, None,   0           ['batch_normalization_20[0][0]'] \n",
      "                                256)                                                              \n",
      "                                                                                                  \n",
      " conv2d_23 (Conv2D)             (None, None, None,   295040      ['activation_20[0][0]']          \n"
     ]
    },
    {
     "name": "stdout",
     "output_type": "stream",
     "text": [
      "                                128)                                                              \n",
      "                                                                                                  \n",
      " batch_normalization_21 (BatchN  (None, None, None,   512        ['conv2d_23[0][0]']              \n",
      " ormalization)                  128)                                                              \n",
      "                                                                                                  \n",
      " activation_21 (Activation)     (None, None, None,   0           ['batch_normalization_21[0][0]'] \n",
      "                                128)                                                              \n",
      "                                                                                                  \n",
      " up_sampling2d_3 (UpSampling2D)  (None, None, None,   0          ['activation_21[0][0]']          \n",
      "                                128)                                                              \n",
      "                                                                                                  \n",
      " conv2d_24 (Conv2D)             (None, None, None,   147584      ['up_sampling2d_3[0][0]']        \n",
      "                                128)                                                              \n",
      "                                                                                                  \n",
      " batch_normalization_22 (BatchN  (None, None, None,   512        ['conv2d_24[0][0]']              \n",
      " ormalization)                  128)                                                              \n",
      "                                                                                                  \n",
      " activation_22 (Activation)     (None, None, None,   0           ['batch_normalization_22[0][0]'] \n",
      "                                128)                                                              \n",
      "                                                                                                  \n",
      " conv2d_25 (Conv2D)             (None, None, None,   73792       ['activation_22[0][0]']          \n",
      "                                64)                                                               \n",
      "                                                                                                  \n",
      " batch_normalization_23 (BatchN  (None, None, None,   256        ['conv2d_25[0][0]']              \n",
      " ormalization)                  64)                                                               \n",
      "                                                                                                  \n",
      " activation_23 (Activation)     (None, None, None,   0           ['batch_normalization_23[0][0]'] \n",
      "                                64)                                                               \n",
      "                                                                                                  \n",
      " up_sampling2d_4 (UpSampling2D)  (None, None, None,   0          ['activation_23[0][0]']          \n",
      "                                64)                                                               \n",
      "                                                                                                  \n",
      " conv2d_26 (Conv2D)             (None, None, None,   36928       ['up_sampling2d_4[0][0]']        \n",
      "                                64)                                                               \n",
      "                                                                                                  \n",
      " batch_normalization_24 (BatchN  (None, None, None,   256        ['conv2d_26[0][0]']              \n",
      " ormalization)                  64)                                                               \n",
      "                                                                                                  \n",
      " activation_24 (Activation)     (None, None, None,   0           ['batch_normalization_24[0][0]'] \n",
      "                                64)                                                               \n",
      "                                                                                                  \n",
      " features (Conv2D)              (None, None, None,   73856       ['activation_24[0][0]']          \n",
      "                                128)                                                              \n",
      "                                                                                                  \n",
      " prob (Conv2D)                  (None, None, None,   129         ['features[0][0]']               \n",
      "                                1)                                                                \n",
      "                                                                                                  \n",
      " dist (Conv2D)                  (None, None, None,   4128        ['features[0][0]']               \n",
      "                                32)                                                               \n",
      "                                                                                                  \n",
      "==================================================================================================\n",
      "Total params: 29,563,841\n",
      "Trainable params: 29,547,969\n",
      "Non-trainable params: 15,872\n",
      "__________________________________________________________________________________________________\n",
      "Loading network weights from 'weights_best.h5'.\n",
      "Loading thresholds from 'thresholds.json'.\n",
      "Using default values: prob_thresh=0.424195, nms_thresh=0.3.\n"
     ]
    }
   ],
   "source": [
    "model = StarDist2D(None, name='segnet_iit', basedir='models')"
   ]
  },
  {
   "cell_type": "code",
   "execution_count": 6,
   "id": "de2aa25b",
   "metadata": {},
   "outputs": [
    {
     "name": "stderr",
     "output_type": "stream",
     "text": [
      "\r\n",
      "  0%|          | 0/14 [00:00<?, ?it/s]"
     ]
    },
    {
     "name": "stdout",
     "output_type": "stream",
     "text": [
      "WARNING:tensorflow:AutoGraph could not transform <function Model.make_predict_function.<locals>.predict_function at 0x0000021D9E52BC70> and will run it as-is.\n",
      "Please report this to the TensorFlow team. When filing the bug, set the verbosity to 10 (on Linux, `export AUTOGRAPH_VERBOSITY=10`) and attach the full output.\n",
      "Cause: module 'gast' has no attribute 'Constant'\n",
      "To silence this warning, decorate the function with @tf.autograph.experimental.do_not_convert\n",
      "WARNING: AutoGraph could not transform <function Model.make_predict_function.<locals>.predict_function at 0x0000021D9E52BC70> and will run it as-is.\n",
      "Please report this to the TensorFlow team. When filing the bug, set the verbosity to 10 (on Linux, `export AUTOGRAPH_VERBOSITY=10`) and attach the full output.\n",
      "Cause: module 'gast' has no attribute 'Constant'\n",
      "To silence this warning, decorate the function with @tf.autograph.experimental.do_not_convert\n",
      "1/1 [==============================] - 4s 4s/step\n",
      "1/1 [==============================] - 0s 26ms/step\n",
      "1/1 [==============================] - 2s 2s/step\n",
      "1/1 [==============================] - 0s 23ms/step\n",
      "1/1 [==============================] - 0s 23ms/step\n",
      "1/1 [==============================] - 0s 22ms/step\n"
     ]
    },
    {
     "name": "stderr",
     "output_type": "stream",
     "text": [
      "\r\n",
      "  7%|▋         | 1/14 [00:06<01:27,  6.70s/it]"
     ]
    },
    {
     "name": "stdout",
     "output_type": "stream",
     "text": [
      "1/1 [==============================] - 0s 20ms/step\n",
      "1/1 [==============================] - 0s 22ms/step\n",
      "1/1 [==============================] - 0s 22ms/step\n",
      "1/1 [==============================] - 0s 20ms/step\n"
     ]
    },
    {
     "name": "stderr",
     "output_type": "stream",
     "text": [
      "\r\n",
      " 14%|█▍        | 2/14 [00:07<00:37,  3.12s/it]"
     ]
    },
    {
     "name": "stdout",
     "output_type": "stream",
     "text": [
      "1/1 [==============================] - 0s 21ms/step\n",
      "1/1 [==============================] - 0s 23ms/step\n",
      "1/1 [==============================] - 0s 21ms/step\n",
      "1/1 [==============================] - 0s 21ms/step\n"
     ]
    },
    {
     "name": "stderr",
     "output_type": "stream",
     "text": [
      "\r\n",
      " 21%|██▏       | 3/14 [00:07<00:21,  1.96s/it]"
     ]
    },
    {
     "name": "stdout",
     "output_type": "stream",
     "text": [
      "1/1 [==============================] - 0s 21ms/step\n",
      "1/1 [==============================] - 0s 20ms/step\n",
      "1/1 [==============================] - 0s 21ms/step\n",
      "1/1 [==============================] - 0s 20ms/step\n"
     ]
    },
    {
     "name": "stderr",
     "output_type": "stream",
     "text": [
      "\r\n",
      " 29%|██▊       | 4/14 [00:08<00:14,  1.40s/it]"
     ]
    },
    {
     "name": "stdout",
     "output_type": "stream",
     "text": [
      "1/1 [==============================] - 0s 20ms/step\n",
      "1/1 [==============================] - 0s 19ms/step\n",
      "1/1 [==============================] - 0s 23ms/step\n",
      "1/1 [==============================] - 0s 21ms/step\n"
     ]
    },
    {
     "name": "stderr",
     "output_type": "stream",
     "text": [
      "\r\n",
      " 36%|███▌      | 5/14 [00:09<00:10,  1.11s/it]"
     ]
    },
    {
     "name": "stdout",
     "output_type": "stream",
     "text": [
      "1/1 [==============================] - 0s 21ms/step\n",
      "1/1 [==============================] - 0s 20ms/step\n",
      "1/1 [==============================] - 0s 20ms/step\n",
      "1/1 [==============================] - 0s 22ms/step\n"
     ]
    },
    {
     "name": "stderr",
     "output_type": "stream",
     "text": [
      "\r\n",
      " 43%|████▎     | 6/14 [00:09<00:07,  1.05it/s]"
     ]
    },
    {
     "name": "stdout",
     "output_type": "stream",
     "text": [
      "1/1 [==============================] - 0s 22ms/step\n",
      "1/1 [==============================] - 0s 22ms/step\n",
      "1/1 [==============================] - 0s 21ms/step\n",
      "1/1 [==============================] - 0s 21ms/step\n"
     ]
    },
    {
     "name": "stderr",
     "output_type": "stream",
     "text": [
      "\r\n",
      " 50%|█████     | 7/14 [00:10<00:05,  1.18it/s]"
     ]
    },
    {
     "name": "stdout",
     "output_type": "stream",
     "text": [
      "1/1 [==============================] - 0s 22ms/step\n",
      "1/1 [==============================] - 0s 22ms/step\n",
      "1/1 [==============================] - 0s 20ms/step\n",
      "1/1 [==============================] - 0s 20ms/step\n"
     ]
    },
    {
     "name": "stderr",
     "output_type": "stream",
     "text": [
      "\r\n",
      " 57%|█████▋    | 8/14 [00:10<00:04,  1.32it/s]"
     ]
    },
    {
     "name": "stdout",
     "output_type": "stream",
     "text": [
      "1/1 [==============================] - 0s 22ms/step\n",
      "1/1 [==============================] - 0s 22ms/step\n",
      "1/1 [==============================] - 0s 22ms/step\n",
      "1/1 [==============================] - 0s 21ms/step\n"
     ]
    },
    {
     "name": "stderr",
     "output_type": "stream",
     "text": [
      "\r\n",
      " 64%|██████▍   | 9/14 [00:11<00:03,  1.40it/s]"
     ]
    },
    {
     "name": "stdout",
     "output_type": "stream",
     "text": [
      "1/1 [==============================] - 0s 20ms/step\n",
      "1/1 [==============================] - 0s 21ms/step\n",
      "1/1 [==============================] - 0s 21ms/step\n",
      "1/1 [==============================] - 0s 21ms/step\n"
     ]
    },
    {
     "name": "stderr",
     "output_type": "stream",
     "text": [
      "\r\n",
      " 71%|███████▏  | 10/14 [00:12<00:02,  1.48it/s]"
     ]
    },
    {
     "name": "stdout",
     "output_type": "stream",
     "text": [
      "1/1 [==============================] - 0s 22ms/step\n",
      "1/1 [==============================] - 0s 20ms/step\n",
      "1/1 [==============================] - 0s 20ms/step\n",
      "1/1 [==============================] - 0s 22ms/step\n"
     ]
    },
    {
     "name": "stderr",
     "output_type": "stream",
     "text": [
      "\r\n",
      " 79%|███████▊  | 11/14 [00:12<00:01,  1.58it/s]"
     ]
    },
    {
     "name": "stdout",
     "output_type": "stream",
     "text": [
      "1/1 [==============================] - 0s 20ms/step\n",
      "1/1 [==============================] - 0s 21ms/step\n",
      "1/1 [==============================] - 0s 21ms/step\n",
      "1/1 [==============================] - 0s 21ms/step\n"
     ]
    },
    {
     "name": "stderr",
     "output_type": "stream",
     "text": [
      "\r\n",
      " 86%|████████▌ | 12/14 [00:13<00:01,  1.67it/s]"
     ]
    },
    {
     "name": "stdout",
     "output_type": "stream",
     "text": [
      "1/1 [==============================] - 0s 23ms/step\n",
      "1/1 [==============================] - 0s 21ms/step\n",
      "1/1 [==============================] - 0s 21ms/step\n",
      "1/1 [==============================] - 0s 21ms/step\n"
     ]
    },
    {
     "name": "stderr",
     "output_type": "stream",
     "text": [
      "\r\n",
      " 93%|█████████▎| 13/14 [00:13<00:00,  1.65it/s]"
     ]
    },
    {
     "name": "stdout",
     "output_type": "stream",
     "text": [
      "1/1 [==============================] - 0s 20ms/step\n",
      "1/1 [==============================] - 0s 20ms/step\n",
      "1/1 [==============================] - 0s 20ms/step\n",
      "1/1 [==============================] - 0s 20ms/step\n"
     ]
    },
    {
     "name": "stderr",
     "output_type": "stream",
     "text": [
      "100%|██████████| 14/14 [00:14<00:00,  1.03s/it]\n"
     ]
    }
   ],
   "source": [
    "Y_val_pred = [model.predict_instances(x, n_tiles=model._guess_n_tiles(x), show_tile_progress=False)[0]\n",
    "              for x in tqdm(X_test)]"
   ]
  },
  {
   "cell_type": "code",
   "execution_count": null,
   "id": "721e0d27",
   "metadata": {
    "scrolled": true
   },
   "outputs": [],
   "source": [
    "#plot_img_label(X_val[0],Y_val[0], lbl_title=\"label GT\")\n",
    "\n",
    "for i in range(14):\n",
    "    plot_img_label(X_test[i],Y_val_pred[i], lbl_title=\"label Pred\")"
   ]
  },
  {
   "cell_type": "code",
   "execution_count": 9,
   "id": "0920441c",
   "metadata": {},
   "outputs": [
    {
     "name": "stderr",
     "output_type": "stream",
     "text": [
      "100%|██████████| 9/9 [00:04<00:00,  1.88it/s]\n"
     ]
    }
   ],
   "source": [
    "taus = [0.1, 0.2, 0.3, 0.4, 0.5, 0.6, 0.7, 0.8, 0.9]\n",
    "stats = [matching_dataset(Y_test, Y_val_pred, thresh=t, show_progress=False) for t in tqdm(taus)]"
   ]
  },
  {
   "cell_type": "code",
   "execution_count": 10,
   "id": "e5ba0418",
   "metadata": {},
   "outputs": [
    {
     "data": {
      "text/plain": [
       "DatasetMatching(criterion='iou', thresh=0.3, fp=837, tp=3815, fn=2882, precision=0.8200773860705073, recall=0.5696580558459011, accuracy=0.5063711176002124, f1=0.6723059300378889, n_true=6697, n_pred=4652, mean_true_score=0.32423147458148677, mean_matched_score=0.5691685937803976, panoptic_quality=0.3826554207898875, by_image=False)"
      ]
     },
     "execution_count": 10,
     "metadata": {},
     "output_type": "execute_result"
    }
   ],
   "source": [
    "stats[taus.index(0.3)]"
   ]
  },
  {
   "cell_type": "code",
   "execution_count": 12,
   "id": "4e071624",
   "metadata": {},
   "outputs": [
    {
     "name": "stdout",
     "output_type": "stream",
     "text": [
      "[0.3744077001628935, 0.31205785041242495, 0.36369746526153185, 0.3274287106994882, 0.32980144948269724, 0.4203546795641054, 0.342321638322864, 0.3445833799559882, 0.44511754628578504, 0.4615397097122273, 0.39481974098704936, 0.24663417362470536, 0.42834347297062403, 0.456163780732804]\n",
      "Total AJI:  0.3748050927267991\n"
     ]
    }
   ],
   "source": [
    "# --------------------------Optimised for Speed\n",
    "def get_fast_aji(true, pred):\n",
    "    \"\"\"AJI version distributed by MoNuSeg, has no permutation problem but suffered from \n",
    "    over-penalisation similar to DICE2.\n",
    "\n",
    "    Fast computation requires instance IDs are in contiguous orderding i.e [1, 2, 3, 4] \n",
    "    not [2, 3, 6, 10]. Please call `remap_label` before hand and `by_size` flag has no \n",
    "    effect on the result.\n",
    "\n",
    "    \"\"\"\n",
    "    true = np.copy(true)  # ? do we need this\n",
    "    pred = np.copy(pred)\n",
    "    true_id_list = list(np.unique(true))\n",
    "    pred_id_list = list(np.unique(pred))\n",
    "\n",
    "    true_masks = [\n",
    "        None,\n",
    "    ]\n",
    "    for t in true_id_list[1:]:\n",
    "        t_mask = np.array(true == t, np.uint8)\n",
    "        true_masks.append(t_mask)\n",
    "\n",
    "    pred_masks = [\n",
    "        None,\n",
    "    ]\n",
    "    for p in pred_id_list[1:]:\n",
    "        p_mask = np.array(pred == p, np.uint8)\n",
    "        pred_masks.append(p_mask)\n",
    "\n",
    "    # prefill with value\n",
    "    pairwise_inter = np.zeros(\n",
    "        [len(true_id_list) - 1, len(pred_id_list) - 1], dtype=np.float64\n",
    "    )\n",
    "    pairwise_union = np.zeros(\n",
    "        [len(true_id_list) - 1, len(pred_id_list) - 1], dtype=np.float64\n",
    "    )\n",
    "\n",
    "    # caching pairwise\n",
    "    for true_id in true_id_list[1:]:  # 0-th is background\n",
    "        t_mask = true_masks[true_id]\n",
    "        pred_true_overlap = pred[t_mask > 0]\n",
    "        pred_true_overlap_id = np.unique(pred_true_overlap)\n",
    "        pred_true_overlap_id = list(pred_true_overlap_id)\n",
    "        for pred_id in pred_true_overlap_id:\n",
    "            if pred_id == 0:  # ignore\n",
    "                continue  # overlaping background\n",
    "            p_mask = pred_masks[pred_id]\n",
    "            total = (t_mask + p_mask).sum()\n",
    "            inter = (t_mask * p_mask).sum()\n",
    "            pairwise_inter[true_id - 1, pred_id - 1] = inter\n",
    "            pairwise_union[true_id - 1, pred_id - 1] = total - inter\n",
    "\n",
    "    pairwise_iou = pairwise_inter / (pairwise_union + 1.0e-6)\n",
    "    # pair of pred that give highest iou for each true, dont care\n",
    "    # about reusing pred instance multiple times\n",
    "    paired_pred = np.argmax(pairwise_iou, axis=1)\n",
    "    pairwise_iou = np.max(pairwise_iou, axis=1)\n",
    "    # exlude those dont have intersection\n",
    "    paired_true = np.nonzero(pairwise_iou > 0.0)[0]\n",
    "    paired_pred = paired_pred[paired_true]\n",
    "    # print(paired_true.shape, paired_pred.shape)\n",
    "    overall_inter = (pairwise_inter[paired_true, paired_pred]).sum()\n",
    "    overall_union = (pairwise_union[paired_true, paired_pred]).sum()\n",
    "\n",
    "    paired_true = list(paired_true + 1)  # index to instance ID\n",
    "    paired_pred = list(paired_pred + 1)\n",
    "    # add all unpaired GT and Prediction into the union\n",
    "    unpaired_true = np.array(\n",
    "        [idx for idx in true_id_list[1:] if idx not in paired_true]\n",
    "    )\n",
    "    unpaired_pred = np.array(\n",
    "        [idx for idx in pred_id_list[1:] if idx not in paired_pred]\n",
    "    )\n",
    "    for true_id in unpaired_true:\n",
    "        overall_union += true_masks[true_id].sum()\n",
    "    for pred_id in unpaired_pred:\n",
    "        overall_union += pred_masks[pred_id].sum()\n",
    "\n",
    "    aji_score = overall_inter / overall_union\n",
    "    return aji_score\n",
    "\n",
    "\n",
    "\n",
    "all_aji_score=[]\n",
    "for m in range(14):\n",
    "    aji_score = get_fast_aji(Y_test[m],Y_val_pred[m])\n",
    "    all_aji_score.append(aji_score)\n",
    "\n",
    "print(all_aji_score)\n",
    "print('Total AJI: ', (sum(all_aji_score) / len(all_aji_score)))"
   ]
  }
 ],
 "metadata": {
  "kernelspec": {
   "display_name": "Python 3 (ipykernel)",
   "language": "python",
   "name": "python3"
  },
  "language_info": {
   "codemirror_mode": {
    "name": "ipython",
    "version": 3
   },
   "file_extension": ".py",
   "mimetype": "text/x-python",
   "name": "python",
   "nbconvert_exporter": "python",
   "pygments_lexer": "ipython3",
   "version": "3.10.6"
  }
 },
 "nbformat": 4,
 "nbformat_minor": 5
}
